{
 "cells": [
  {
   "cell_type": "markdown",
   "metadata": {},
   "source": [
    "This notebook demonstrates how to write plots directly into the frames of a movie file, using `matplotlib.animation`."
   ]
  },
  {
   "cell_type": "code",
   "execution_count": 6,
   "metadata": {},
   "outputs": [],
   "source": [
    "# some basic imports\n",
    "import matplotlib.pyplot as plt, numpy as np\n",
    "import matplotlib.animation as ani"
   ]
  },
  {
   "cell_type": "code",
   "execution_count": 7,
   "metadata": {},
   "outputs": [],
   "source": [
    "# create a matplotlib figure\n",
    "figure = plt.figure(figsize=(4, 3), dpi=100)\n",
    "\n",
    "# make some data\n",
    "x = np.arange(100)\n",
    "\n",
    "# initialize the animator\n",
    "writer = ani.FFMpegWriter(fps=30, bitrate=1000)\n",
    "\n",
    "# create an x-axis\n",
    "x = np.linspace(0, 100, 1000)\n",
    "sigma = 2.0\n",
    "\n",
    "\n",
    "# the \"with\" construction is a little confusing, but feel free to copy and paste this\n",
    "with writer.saving(figure, 'matplotlibmovie.mp4', figure.get_dpi()):\n",
    "\n",
    "    # loop over exposures\n",
    "    for center in np.linspace(-10, 110, 30):\n",
    "        \n",
    "        # redefine the array of y values\n",
    "        y = 1/np.sqrt(2*np.pi)/sigma*np.exp(-0.5*(x - center)**2/sigma**2)\n",
    "        \n",
    "        # clear any data that's on the axes\n",
    "        plt.cla()\n",
    "\n",
    "        # plot the new data\n",
    "        plt.plot(x, y)\n",
    "        \n",
    "        # make sure the ylimit stays the same\n",
    "        plt.ylim(0, 0.3)\n",
    "        \n",
    "        # save this snapshot to a movie frame\n",
    "        writer.grab_frame()\n"
   ]
  },
  {
   "cell_type": "code",
   "execution_count": 8,
   "metadata": {},
   "outputs": [],
   "source": [
    "# let's open up that movie to take a look at it\n",
    "!open matplotlibmovie.mp4"
   ]
  },
  {
   "cell_type": "markdown",
   "metadata": {},
   "source": [
    "As a pro move, you may discover that it's faster to *modify the existing data* within a plot than it is to *plot a new line from scratch*, so for a long movie you may want to adopt that strategy, as shown here:"
   ]
  },
  {
   "cell_type": "code",
   "execution_count": 9,
   "metadata": {},
   "outputs": [],
   "source": [
    "# create a matplotlib figure\n",
    "figure = plt.figure(figsize=(4, 3), dpi=100)\n",
    "\n",
    "# make some data\n",
    "x = np.arange(100)\n",
    "\n",
    "# initialize the animator\n",
    "writer = ani.FFMpegWriter(fps=30, bitrate=1000)\n",
    "\n",
    "# create an x-axis\n",
    "x = np.linspace(0, 100, 1000)\n",
    "y = np.zeros_like(x)\n",
    "\n",
    "# the \"plotted\" object will store the plotted line, so you can modify it later\n",
    "plotted = plt.plot(x, y)\n",
    "plt.ylim(0, 0.3)\n",
    "sigma = 2.0\n",
    "\n",
    "# the \"with\" construction is a little confusing, but feel free to copy and paste this\n",
    "with writer.saving(figure, 'anothermatplotlibmovie.mp4', figure.get_dpi()):\n",
    "\n",
    "    # loop over exposures\n",
    "    for center in np.linspace(-10, 110, 30):\n",
    "        \n",
    "        # redefine the array of y values\n",
    "        y = 1/np.sqrt(2*np.pi)/sigma*np.exp(-0.5*(x - center)**2/sigma**2)\n",
    "        \n",
    "        # just change the data values for the already plotted line\n",
    "        plotted[0].set_data(x, y)\n",
    "        \n",
    "        # save this snapshot to a movie frame\n",
    "        writer.grab_frame()\n",
    "\n"
   ]
  },
  {
   "cell_type": "code",
   "execution_count": 10,
   "metadata": {},
   "outputs": [],
   "source": [
    "!open anothermatplotlibmovie.mp4"
   ]
  }
 ],
 "metadata": {
  "kernelspec": {
   "display_name": "Python 3",
   "language": "python",
   "name": "python3"
  },
  "language_info": {
   "codemirror_mode": {
    "name": "ipython",
    "version": 3
   },
   "file_extension": ".py",
   "mimetype": "text/x-python",
   "name": "python",
   "nbconvert_exporter": "python",
   "pygments_lexer": "ipython3",
   "version": "3.6.2"
  }
 },
 "nbformat": 4,
 "nbformat_minor": 2
}
