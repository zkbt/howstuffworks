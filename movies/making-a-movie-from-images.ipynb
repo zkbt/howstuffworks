{
 "cells": [
  {
   "cell_type": "markdown",
   "metadata": {},
   "source": [
    "This notebook shows how to make a movie out of lots of individual pre-saved image files. It uses [imageio](http://imageio.readthedocs.io/en/latest/), and is based off a tweet I saw from Grant Tremblay. You can install this package by typing from the UNIX prompt:\n",
    "\n",
    "`pip install imageio`\n",
    "\n",
    "Note, this notebook is doing kind of a roundabout thing by saving images out to individual files and then combining them into a movie. If you know you want to make the movie from the start, then you can use the `matplotlib.animation` to write the frames of that movie directly into a single file."
   ]
  },
  {
   "cell_type": "code",
   "execution_count": 1,
   "metadata": {},
   "outputs": [],
   "source": [
    "# some basic imports\n",
    "import matplotlib.pyplot as plt, numpy as np\n",
    "import os, glob, imageio"
   ]
  },
  {
   "cell_type": "code",
   "execution_count": 2,
   "metadata": {},
   "outputs": [],
   "source": [
    "# make a directory called \"images/\"\n",
    "try:\n",
    "    os.mkdir('images')\n",
    "except FileExistsError:\n",
    "    pass"
   ]
  },
  {
   "cell_type": "code",
   "execution_count": 3,
   "metadata": {},
   "outputs": [],
   "source": [
    "# make 30 different plots, each saved as a png, inside of images\n",
    "N = 1000\n",
    "for i in range(30):\n",
    "    x = np.arange(N)\n",
    "    y = np.random.normal(0, 1, N)\n",
    "\n",
    "    plt.cla()\n",
    "    plt.scatter(x, y)\n",
    "    plt.ylim(-4, 4)\n",
    "    plt.savefig('images/{:04d}.png'.format(i))"
   ]
  },
  {
   "cell_type": "code",
   "execution_count": 4,
   "metadata": {},
   "outputs": [
    {
     "name": "stdout",
     "output_type": "stream",
     "text": [
      "0000.png 0004.png 0008.png 0012.png 0016.png 0020.png 0024.png 0028.png\r\n",
      "0001.png 0005.png 0009.png 0013.png 0017.png 0021.png 0025.png 0029.png\r\n",
      "0002.png 0006.png 0010.png 0014.png 0018.png 0022.png 0026.png\r\n",
      "0003.png 0007.png 0011.png 0015.png 0019.png 0023.png 0027.png\r\n"
     ]
    }
   ],
   "source": [
    "# let's show (just using UNIX ls) the images we just made\n",
    "!ls images"
   ]
  },
  {
   "cell_type": "code",
   "execution_count": 5,
   "metadata": {},
   "outputs": [
    {
     "name": "stdout",
     "output_type": "stream",
     "text": [
      "The files that will go into the movie are ['images/0000.png', 'images/0001.png', 'images/0002.png', 'images/0003.png', 'images/0004.png', 'images/0005.png', 'images/0006.png', 'images/0007.png', 'images/0008.png', 'images/0009.png', 'images/0010.png', 'images/0011.png', 'images/0012.png', 'images/0013.png', 'images/0014.png', 'images/0015.png', 'images/0016.png', 'images/0017.png', 'images/0018.png', 'images/0019.png', 'images/0020.png', 'images/0021.png', 'images/0022.png', 'images/0023.png', 'images/0024.png', 'images/0025.png', 'images/0026.png', 'images/0027.png', 'images/0028.png', 'images/0029.png'].\n"
     ]
    }
   ],
   "source": [
    "# let's make a list of the files we want to load to make a movie\n",
    "files = glob.glob('images/*.png')\n",
    "print('The files that will go into the movie are {}.'.format(files))"
   ]
  },
  {
   "cell_type": "code",
   "execution_count": 6,
   "metadata": {},
   "outputs": [],
   "source": [
    "# use imageio to load a list of images\n",
    "frames = []\n",
    "for f in files:\n",
    "    \n",
    "    # load an image\n",
    "    thisimage = imageio.imread(f)\n",
    "    # append it to a list\n",
    "    frames.append(thisimage)\n",
    "    \n",
    "# save the list of images out to a movie (with different extensions)\n",
    "imageio.mimsave('mp4movie.mp4', frames)\n",
    "imageio.mimsave('gifmovie.gif', frames)"
   ]
  },
  {
   "cell_type": "code",
   "execution_count": 7,
   "metadata": {},
   "outputs": [
    {
     "name": "stdout",
     "output_type": "stream",
     "text": [
      "gifmovie.gif                     mp4movie.mp4\r\n",
      "\u001b[34mimages\u001b[m\u001b[m                           mp4movie_slower.mp4\r\n",
      "making-a-movie-from-images.ipynb\r\n"
     ]
    }
   ],
   "source": [
    "# list the files, to see that new movie files appeared\n",
    "!ls"
   ]
  },
  {
   "cell_type": "code",
   "execution_count": 8,
   "metadata": {},
   "outputs": [],
   "source": [
    "# on Mac, this will open up the file in its appropriate movie player\n",
    "!open mp4movie.mp4"
   ]
  },
  {
   "cell_type": "markdown",
   "metadata": {},
   "source": [
    "It looks like there are lots of options to play with for passing into `misimave`, for example to change the quality or frame rate of the saved movie. According to the documentation, you can pass various keyword arguments (`**kwargs`) into the function, which will get passed on to the object that's actually writing the movie."
   ]
  },
  {
   "cell_type": "code",
   "execution_count": 9,
   "metadata": {},
   "outputs": [
    {
     "name": "stdout",
     "output_type": "stream",
     "text": [
      "Help on function mimwrite in module imageio.core.functions:\n",
      "\n",
      "mimwrite(uri, ims, format=None, **kwargs)\n",
      "    mimwrite(uri, ims, format=None, **kwargs)\n",
      "    \n",
      "    Write multiple images to the specified file.\n",
      "    \n",
      "    Parameters\n",
      "    ----------\n",
      "    uri : {str, file}\n",
      "        The resource to write the images to, e.g. a filename or file object,\n",
      "        see the docs for more info.\n",
      "    ims : sequence of numpy arrays\n",
      "        The image data. Each array must be NxM, NxMx3 or NxMx4.\n",
      "    format : str\n",
      "        The format to use to read the file. By default imageio selects\n",
      "        the appropriate for you based on the filename and its contents.\n",
      "    kwargs : ...\n",
      "        Further keyword arguments are passed to the writer. See :func:`.help`\n",
      "        to see what arguments are available for a particular format.\n",
      "\n"
     ]
    }
   ],
   "source": [
    "help(imageio.mimsave)"
   ]
  },
  {
   "cell_type": "markdown",
   "metadata": {},
   "source": [
    "It looks like feeding a filename into `imageio.help` will give you the `**kwargs` options that can be passed on to the reader."
   ]
  },
  {
   "cell_type": "code",
   "execution_count": 10,
   "metadata": {},
   "outputs": [
    {
     "name": "stdout",
     "output_type": "stream",
     "text": [
      "FFMPEG - Many video formats and cameras (via ffmpeg)\n",
      "\n",
      "    The ffmpeg format provides reading and writing for a wide range\n",
      "    of movie formats such as .avi, .mpeg, .mp4, etc. And also to read\n",
      "    streams from webcams and USB cameras. \n",
      "    \n",
      "    To read from camera streams, supply \"<video0>\" as the filename,\n",
      "    where the \"0\" can be replaced with any index of cameras known to\n",
      "    the system.\n",
      "    \n",
      "    Note that for reading regular video files, the avbin plugin is more\n",
      "    efficient.\n",
      "    \n",
      "    By setting the environment variable 'IMAGEIO_FFMPEG_EXE' the\n",
      "    ffmpeg executable to use can be overridden. \n",
      "    E.g. ``os.environ['IMAGEIO_FFMPEG_EXE'] = '/path/to/my/ffmpeg'``\n",
      "    Otherwise, imageio will look for ffmpeg on the system path and then\n",
      "    download ffmpeg if not found.\n",
      "    \n",
      "    Parameters for reading\n",
      "    ----------------------\n",
      "    loop : bool\n",
      "        If True, the video will rewind as soon as a frame is requested\n",
      "        beyond the last frame. Otherwise, IndexError is raised. Default False.\n",
      "    size : str | tuple\n",
      "        The frame size (i.e. resolution) to read the images, e.g. \n",
      "        (100, 100) or \"640x480\". For camera streams, this allows setting\n",
      "        the capture resolution. For normal video data, ffmpeg will\n",
      "        rescale the data.\n",
      "    pixelformat : str\n",
      "        The pixel format for the camera to use (e.g. \"yuyv422\" or\n",
      "        \"gray\"). The camera needs to support the format in order for\n",
      "        this to take effect. Note that the images produced by this\n",
      "        reader are always rgb8.\n",
      "    ffmpeg_params: list\n",
      "        List additional arguments to ffmpeg for input file options.\n",
      "        Example ffmpeg arguments to use aggressive error handling:\n",
      "        ['-err_detect', 'aggressive']\n",
      "    print_info : bool\n",
      "        Print information about the video file as reported by ffmpeg.\n",
      "    \n",
      "    Parameters for saving\n",
      "    ---------------------\n",
      "    fps : scalar\n",
      "        The number of frames per second. Default 10.\n",
      "    codec : str\n",
      "        the video codec to use. Default 'libx264', which represents the\n",
      "        widely available mpeg4. Except when saving .wmv files, then the\n",
      "        defaults is 'msmpeg4' which is more commonly supported for windows\n",
      "    quality : float | None\n",
      "        Video output quality. Default is 5. Uses variable bit rate. Highest\n",
      "        quality is 10, lowest is 0. Set to None to prevent variable bitrate\n",
      "        flags to FFMPEG so you can manually specify them using ffmpeg_params\n",
      "        instead. Specifying a fixed bitrate using 'bitrate' disables this\n",
      "        parameter.\n",
      "    bitrate : int | None\n",
      "        Set a constant bitrate for the video encoding. Default is None causing\n",
      "        'quality' parameter to be used instead.  Better quality videos with\n",
      "        smaller file sizes will result from using the 'quality'  variable\n",
      "        bitrate parameter rather than specifiying a fixed bitrate with this\n",
      "        parameter.\n",
      "    pixelformat: str\n",
      "        The output video pixel format. Default is 'yuv420p' which most widely\n",
      "        supported by video players.\n",
      "    ffmpeg_params: list\n",
      "        List additional arguments to ffmpeg for output file options.\n",
      "        Example ffmpeg arguments to use only intra frames and set aspect ratio:\n",
      "        ['-intra', '-aspect', '16:9']\n",
      "    ffmpeg_log_level: str\n",
      "        Sets ffmpeg output log level.  Default is \"warning\".\n",
      "        Values can be \"quiet\", \"panic\", \"fatal\", \"error\", \"warning\", \"info\"\n",
      "        \"verbose\", or \"debug\". Also prints the FFMPEG command being used by\n",
      "        imageio if \"info\", \"verbose\", or \"debug\".\n",
      "    macro_block_size: int\n",
      "        Size constraint for video. Width and height, must be divisible by this\n",
      "        number. If not divisible by this number imageio will tell ffmpeg to\n",
      "        scale the image up to the next closest size\n",
      "        divisible by this number. Most codecs are compatible with a macroblock\n",
      "        size of 16 (default), some can go smaller (4, 8). To disable this\n",
      "        automatic feature set it to None, however be warned many players can't\n",
      "        decode videos that are odd in size and some codecs will produce poor\n",
      "        results or fail. See https://en.wikipedia.org/wiki/Macroblock.\n",
      "\n"
     ]
    }
   ],
   "source": [
    "imageio.help('movie.mp4')"
   ]
  },
  {
   "cell_type": "code",
   "execution_count": 11,
   "metadata": {},
   "outputs": [],
   "source": [
    "imageio.mimsave('mp4movie_slower.mp4', frames, fps=2, quality=9)"
   ]
  },
  {
   "cell_type": "code",
   "execution_count": 12,
   "metadata": {},
   "outputs": [],
   "source": [
    "!open mp4movie_slower.mp4"
   ]
  }
 ],
 "metadata": {
  "kernelspec": {
   "display_name": "Python 3",
   "language": "python",
   "name": "python3"
  },
  "language_info": {
   "codemirror_mode": {
    "name": "ipython",
    "version": 3
   },
   "file_extension": ".py",
   "mimetype": "text/x-python",
   "name": "python",
   "nbconvert_exporter": "python",
   "pygments_lexer": "ipython3",
   "version": "3.6.2"
  }
 },
 "nbformat": 4,
 "nbformat_minor": 2
}
