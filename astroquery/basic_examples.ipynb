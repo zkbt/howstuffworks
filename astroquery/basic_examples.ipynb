{
 "cells": [
  {
   "cell_type": "code",
   "execution_count": 5,
   "metadata": {
    "collapsed": false
   },
   "outputs": [],
   "source": [
    "from astroquery.simbad import Simbad"
   ]
  },
  {
   "cell_type": "markdown",
   "metadata": {},
   "source": [
    "### A simple search by identifier:"
   ]
  },
  {
   "cell_type": "code",
   "execution_count": 10,
   "metadata": {
    "collapsed": false
   },
   "outputs": [
    {
     "name": "stdout",
     "output_type": "stream",
     "text": [
      "This table has 57 lines!\n",
      "           ID          \n",
      "-----------------------\n",
      "              WEB  4731\n",
      "             NAME Rigel\n",
      "2MASS J05143226-0812060\n",
      "               PLX 1191\n",
      "               SBC9 307\n",
      "              * bet Ori\n",
      "              *  19 Ori\n",
      "            * bet Ori A\n",
      "               2E  1238\n",
      "          AAVSO 0509-08\n",
      "                    ...\n",
      "            [SC93b] 101\n",
      "              ALS 14772\n",
      "            PLX 1191.00\n",
      "  1RXS J051431.5-081112\n",
      "         2E 0512.1-0814\n",
      "        EUVE J0514-08.1\n",
      "       WDS J05145-0812A\n",
      "        TYC 5331-1752-1\n",
      "       PMSC 05097-0819A\n",
      "       uvby98 100034085\n",
      "             GN 05.04.0\n",
      "Length = 57 rows\n"
     ]
    }
   ],
   "source": [
    "#first make sure your target name in the correct format\n",
    "#(see cds.u-strasbg.fr/cgi-bin/Dic-Simbad for Simbad's Dictionary of Nomenclature)\n",
    "targetName = 'Rigel'\n",
    "\n",
    "#Pull up a table of informaiton for this identifier\n",
    "resultsTable = Simbad.query_objectids(targetName)    \n",
    "print 'This table has '+str(len(resultsTable))+' lines!'\n",
    "print resultsTable"
   ]
  },
  {
   "cell_type": "markdown",
   "metadata": {},
   "source": [
    "As you can see, this can bring up a lot of information. To find one specific thing, for instance the Hipparcos identifier for this object, here's one way to do it:"
   ]
  },
  {
   "cell_type": "code",
   "execution_count": 19,
   "metadata": {
    "collapsed": false
   },
   "outputs": [
    {
     "name": "stdout",
     "output_type": "stream",
     "text": [
      "HIP  24436\n"
     ]
    }
   ],
   "source": [
    "for line in resultsTable:       #look through each line in the results table\n",
    "    if 'HIP' in line[0]:        #find the line containing the Hipparcos identifier abbreviation\n",
    "        print line[0]           #here I use line[0] instead of line to avoid the 'ID' label that will come up with just \"line\""
   ]
  },
  {
   "cell_type": "markdown",
   "metadata": {},
   "source": [
    "### Using NASA's Exoplanet archive:"
   ]
  },
  {
   "cell_type": "code",
   "execution_count": 25,
   "metadata": {
    "collapsed": false
   },
   "outputs": [
    {
     "name": "stdout",
     "output_type": "stream",
     "text": [
      "pl_hostname pl_letter pl_discmethod ... NAME_LOWERCASE       sky_coord      \n",
      "                                    ...                       deg,deg       \n",
      "----------- --------- ------------- ... -------------- ---------------------\n",
      "   HAT-P-54         b       Transit ...      hat-p-54b    99.898003,25.48254\n",
      "     HATS-2         b       Transit ...        hats-2b 176.739094,-22.562992\n",
      "     HATS-3         b       Transit ...        hats-3b  312.45744,-24.428793\n"
     ]
    }
   ],
   "source": [
    "from astroquery.nasa_exoplanet_archive import NasaExoplanetArchive\n",
    "\n",
    "#this is a super useful archive\n",
    "exoplanet_archive_table = NasaExoplanetArchive.get_confirmed_planets_table()\n",
    "\n",
    "#taking a look at the first three lines:\n",
    "print exoplanet_archive_table[:3]"
   ]
  },
  {
   "cell_type": "markdown",
   "metadata": {},
   "source": [
    "There's 82 columns for every target. To find specific information all you have to to is call the column name. For instance, let's find out the radius of the third planet in this table:"
   ]
  },
  {
   "cell_type": "code",
   "execution_count": 30,
   "metadata": {
    "collapsed": false
   },
   "outputs": [
    {
     "name": "stdout",
     "output_type": "stream",
     "text": [
      "0.912 jupiterRad\n"
     ]
    }
   ],
   "source": [
    "exoplanet3 = exoplanet_archive_table[3]    #take the information just for this planet\n",
    "print exoplanet3['pl_radj']                #spit out it's radius"
   ]
  },
  {
   "cell_type": "code",
   "execution_count": null,
   "metadata": {
    "collapsed": true
   },
   "outputs": [],
   "source": []
  }
 ],
 "metadata": {
  "kernelspec": {
   "display_name": "Python 2",
   "language": "python",
   "name": "python2"
  },
  "language_info": {
   "codemirror_mode": {
    "name": "ipython",
    "version": 2
   },
   "file_extension": ".py",
   "mimetype": "text/x-python",
   "name": "python",
   "nbconvert_exporter": "python",
   "pygments_lexer": "ipython2",
   "version": "2.7.13"
  }
 },
 "nbformat": 4,
 "nbformat_minor": 2
}
