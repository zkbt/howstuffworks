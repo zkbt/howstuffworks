{
 "cells": [
  {
   "cell_type": "markdown",
   "metadata": {},
   "source": [
    "We generally want to keep our `*.py` files or in `.ipynb` notebooks, that we'd like to keep synced with a github reposity. But, sometimes we have big data files we want to store somewhere outside our repositories, so they don't keep getting synced up and down to github. Here's generally how I tend to do that:"
   ]
  },
  {
   "cell_type": "code",
   "execution_count": 1,
   "metadata": {},
   "outputs": [],
   "source": [
    "# at the top of a notebook, or in a python module, define a data path\n",
    "datapath = '/Users/zkbt/Cosmos/Data/'"
   ]
  },
  {
   "cell_type": "code",
   "execution_count": 2,
   "metadata": {},
   "outputs": [],
   "source": [
    "# here, I'm creating a tiny example table, but this could be arbitarily large!\n",
    "import astropy.table, astropy.io.ascii\n",
    "d = {'column1':[1,2,3]}\n",
    "t = astropy.table.Table(d)"
   ]
  },
  {
   "cell_type": "code",
   "execution_count": 3,
   "metadata": {},
   "outputs": [
    {
     "name": "stdout",
     "output_type": "stream",
     "text": [
      "/Users/zkbt/Cosmos/Data/sometable.dat\n"
     ]
    }
   ],
   "source": [
    "# define filenames based on the datapath\n",
    "filename = datapath + 'sometable.dat'\n",
    "print filename"
   ]
  },
  {
   "cell_type": "code",
   "execution_count": 4,
   "metadata": {},
   "outputs": [],
   "source": [
    "# write to that file\n",
    "astropy.io.ascii.write(t, filename, overwrite=True)\n",
    "# be aware, the `datapath` directory has to exist to be able to write to it"
   ]
  },
  {
   "cell_type": "code",
   "execution_count": 5,
   "metadata": {},
   "outputs": [
    {
     "name": "stdout",
     "output_type": "stream",
     "text": [
      "/Users/zkbt/Dropbox/code/python/sketches/howstuffworks/dealingwithbigdata\n",
      "keepingdata+codeseparate.ipynb\n"
     ]
    }
   ],
   "source": [
    "# if we look in our local directory, we'll see the file didn't write there\n",
    "!pwd\n",
    "!ls"
   ]
  },
  {
   "cell_type": "code",
   "execution_count": 6,
   "metadata": {},
   "outputs": [],
   "source": [
    "# then we could read that table back in, as a new variable, just for kicks\n",
    "othertable = astropy.io.ascii.read(filename)"
   ]
  },
  {
   "cell_type": "code",
   "execution_count": 7,
   "metadata": {},
   "outputs": [
    {
     "data": {
      "text/html": [
       "&lt;Table length=3&gt;\n",
       "<table id=\"table4413915024\" class=\"table-striped table-bordered table-condensed\">\n",
       "<thead><tr><th>column1</th></tr></thead>\n",
       "<thead><tr><th>int64</th></tr></thead>\n",
       "<tr><td>1</td></tr>\n",
       "<tr><td>2</td></tr>\n",
       "<tr><td>3</td></tr>\n",
       "</table>"
      ],
      "text/plain": [
       "<Table length=3>\n",
       "column1\n",
       " int64 \n",
       "-------\n",
       "      1\n",
       "      2\n",
       "      3"
      ]
     },
     "execution_count": 7,
     "metadata": {},
     "output_type": "execute_result"
    }
   ],
   "source": [
    "othertable"
   ]
  }
 ],
 "metadata": {
  "kernelspec": {
   "display_name": "Python 2",
   "language": "python",
   "name": "python2"
  },
  "language_info": {
   "codemirror_mode": {
    "name": "ipython",
    "version": 2
   },
   "file_extension": ".py",
   "mimetype": "text/x-python",
   "name": "python",
   "nbconvert_exporter": "python",
   "pygments_lexer": "ipython2",
   "version": "2.7.13"
  }
 },
 "nbformat": 4,
 "nbformat_minor": 2
}
